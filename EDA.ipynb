{
 "cells": [
  {
   "cell_type": "code",
   "execution_count": 2,
   "outputs": [],
   "source": [
    "import numpy as np\n",
    "import pandas as pd\n",
    "import os\n",
    "import numpy as np\n",
    "from csv import writer"
   ],
   "metadata": {
    "collapsed": false
   }
  },
  {
   "cell_type": "code",
   "execution_count": 73,
   "outputs": [],
   "source": [
    "subreddits = [] #contains list of created subreddit.csv files\n",
    "\n",
    "path_ndjson = \"E:\\\\School\\\\U-of-E-Schoolwork\\\\MLP\\\\data\\\\ndjson\\\\reddit.ndjson\"\n",
    "path_data = \"E:\\\\School\\\\U-of-E-Schoolwork\\\\MLP\\\\data\\\\csv\" #path to folder to contain the csv files\n",
    "cols = ['author', 'date_post', 'id_post', 'number_post', 'subreddit', 'text_post', 'thread']\n",
    "\n",
    "def append_csv(values:list) -> None:\n",
    "    with open(os.path.join(path_data, f\"{values[4]}.csv\"), 'a', encoding='utf-8', newline='') as file:\n",
    "        writer_obj = writer(file)\n",
    "        writer_obj.writerow(values)\n",
    "\n",
    "        file.close()\n",
    "\n",
    "def write_csv(values:list) -> None:\n",
    "    subreddits.append(values[4])\n",
    "\n",
    "    df = pd.DataFrame(data=[values], columns=cols)\n",
    "    df.to_csv(os.path.join(path_data, f\"{values[4]}.csv\"), index=None)\n",
    "\n",
    "def fun_csv(series : list) -> None:\n",
    "    sr = series[4]\n",
    "    if sr in subreddits:\n",
    "        append_csv(series)\n",
    "    else:\n",
    "        write_csv(series)\n",
    "\n",
    "with pd.read_json(\n",
    "        path_or_buf=path_ndjson,\n",
    "        lines=True,\n",
    "        chunksize=20) as reader:\n",
    "    idx = 1\n",
    "    #cycle through the iterator\n",
    "    for chunk in reader:\n",
    "        idx += 1\n",
    "        if idx > 20:\n",
    "            break\n",
    "        chunk.apply(fun_csv, axis = 1, raw=True)\n"
   ],
   "metadata": {
    "collapsed": false
   }
  },
  {
   "cell_type": "code",
   "execution_count": 42,
   "outputs": [
    {
     "name": "stdout",
     "output_type": "stream",
     "text": [
      "[4 4 4]\n",
      "[9 9 9]\n"
     ]
    },
    {
     "data": {
      "text/plain": "A    None\nB    None\ndtype: object"
     },
     "execution_count": 42,
     "metadata": {},
     "output_type": "execute_result"
    }
   ],
   "source": [
    "def fun_csv(series : pd.Series) -> None:\n",
    "    print(series)\n",
    "    return\n",
    "\n",
    "df = pd.DataFrame([[4, 9]] * 3, columns=['A', 'B'])\n",
    "df.apply(fun_csv, axis=0, raw=True)"
   ],
   "metadata": {
    "collapsed": false
   }
  },
  {
   "cell_type": "code",
   "execution_count": 75,
   "outputs": [
    {
     "name": "stdout",
     "output_type": "stream",
     "text": [
      "29482387\n"
     ]
    }
   ],
   "source": [
    "path_ndjson = \"E:\\\\School\\\\U-of-E-Schoolwork\\\\MLP\\\\data\\\\ndjson\\\\reddit.ndjson\"\n",
    "path_data = \"E:\\\\School\\\\U-of-E-Schoolwork\\\\MLP\\\\data\\\\csv\" #path to folder to contain the csv files\n",
    "def fun_csv(series : list) -> None:\n",
    "    sr = series[4]\n",
    "    #print(series)\n",
    "with open(\"E:\\\\School\\\\U-of-E-Schoolwork\\\\MLP\\\\data\\\\ndjson\\\\reddit.ndjson\", 'r') as reader:\n",
    "    idx = 0\n",
    "    #cycle through the iterator\n",
    "    for chunk in reader:\n",
    "        idx += 1\n",
    "\n",
    "print(idx)"
   ],
   "metadata": {
    "collapsed": false
   }
  },
  {
   "cell_type": "code",
   "execution_count": 3,
   "outputs": [
    {
     "name": "stdout",
     "output_type": "stream",
     "text": [
      "The cython extension is already loaded. To reload it, use:\n",
      "  %reload_ext cython\n"
     ]
    }
   ],
   "source": [
    "%load_ext cython"
   ],
   "metadata": {
    "collapsed": false
   }
  },
  {
   "cell_type": "code",
   "execution_count": 4,
   "outputs": [
    {
     "ename": "DistutilsPlatformError",
     "evalue": "Microsoft Visual C++ 14.0 or greater is required. Get it with \"Microsoft C++ Build Tools\": https://visualstudio.microsoft.com/visual-cpp-build-tools/",
     "output_type": "error",
     "traceback": [
      "\u001B[1;31m---------------------------------------------------------------------------\u001B[0m",
      "\u001B[1;31mDistutilsPlatformError\u001B[0m                    Traceback (most recent call last)",
      "Cell \u001B[1;32mIn[4], line 1\u001B[0m\n\u001B[1;32m----> 1\u001B[0m \u001B[43mget_ipython\u001B[49m\u001B[43m(\u001B[49m\u001B[43m)\u001B[49m\u001B[38;5;241;43m.\u001B[39;49m\u001B[43mrun_cell_magic\u001B[49m\u001B[43m(\u001B[49m\u001B[38;5;124;43m'\u001B[39;49m\u001B[38;5;124;43mcython\u001B[39;49m\u001B[38;5;124;43m'\u001B[39;49m\u001B[43m,\u001B[49m\u001B[43m \u001B[49m\u001B[38;5;124;43m'\u001B[39;49m\u001B[38;5;124;43m'\u001B[39;49m\u001B[43m,\u001B[49m\u001B[43m \u001B[49m\u001B[38;5;124;43m'\u001B[39;49m\u001B[38;5;130;43;01m\\n\u001B[39;49;00m\u001B[38;5;124;43mimport os\u001B[39;49m\u001B[38;5;130;43;01m\\n\u001B[39;49;00m\u001B[38;5;124;43mimport cython\u001B[39;49m\u001B[38;5;130;43;01m\\n\u001B[39;49;00m\u001B[38;5;124;43mimport numpy as np\u001B[39;49m\u001B[38;5;130;43;01m\\n\u001B[39;49;00m\u001B[38;5;124;43mimport scipy.sparse\u001B[39;49m\u001B[38;5;130;43;01m\\n\u001B[39;49;00m\u001B[38;5;124;43mfrom sklearn.feature_extraction.text import CountVectorizer\u001B[39;49m\u001B[38;5;130;43;01m\\n\u001B[39;49;00m\u001B[38;5;124;43mimport argparse\u001B[39;49m\u001B[38;5;130;43;01m\\n\u001B[39;49;00m\u001B[38;5;124;43mimport string\u001B[39;49m\u001B[38;5;130;43;01m\\n\u001B[39;49;00m\u001B[38;5;124;43mfrom tqdm import tqdm\u001B[39;49m\u001B[38;5;130;43;01m\\n\u001B[39;49;00m\u001B[38;5;124;43mimport nltk\u001B[39;49m\u001B[38;5;130;43;01m\\n\u001B[39;49;00m\u001B[38;5;124;43mfrom nltk.tokenize import word_tokenize, wordpunct_tokenize\u001B[39;49m\u001B[38;5;130;43;01m\\n\u001B[39;49;00m\u001B[38;5;124;43mfrom nltk.corpus import stopwords\u001B[39;49m\u001B[38;5;130;43;01m\\n\u001B[39;49;00m\u001B[38;5;124;43mimport json\u001B[39;49m\u001B[38;5;130;43;01m\\n\u001B[39;49;00m\u001B[38;5;124;43mimport re\u001B[39;49m\u001B[38;5;130;43;01m\\n\u001B[39;49;00m\u001B[38;5;124;43mimport pandas as pd\u001B[39;49m\u001B[38;5;130;43;01m\\n\u001B[39;49;00m\u001B[38;5;124;43mimport time\u001B[39;49m\u001B[38;5;130;43;01m\\n\u001B[39;49;00m\u001B[38;5;130;43;01m\\n\u001B[39;49;00m\u001B[38;5;124;43mnltk.download(\u001B[39;49m\u001B[38;5;130;43;01m\\'\u001B[39;49;00m\u001B[38;5;124;43mstopwords\u001B[39;49m\u001B[38;5;130;43;01m\\'\u001B[39;49;00m\u001B[38;5;124;43m)\u001B[39;49m\u001B[38;5;130;43;01m\\n\u001B[39;49;00m\u001B[38;5;124;43mnltk.download(\u001B[39;49m\u001B[38;5;130;43;01m\\'\u001B[39;49;00m\u001B[38;5;124;43mpunkt\u001B[39;49m\u001B[38;5;130;43;01m\\'\u001B[39;49;00m\u001B[38;5;124;43m)\u001B[39;49m\u001B[38;5;130;43;01m\\n\u001B[39;49;00m\u001B[38;5;124;43mstring.punctuation\u001B[39;49m\u001B[38;5;130;43;01m\\n\u001B[39;49;00m\u001B[38;5;130;43;01m\\n\u001B[39;49;00m\u001B[38;5;124;43mparser = argparse.ArgumentParser()\u001B[39;49m\u001B[38;5;130;43;01m\\n\u001B[39;49;00m\u001B[38;5;124;43mparser.add_argument(\u001B[39;49m\u001B[38;5;130;43;01m\\'\u001B[39;49;00m\u001B[38;5;124;43m--data_path\u001B[39;49m\u001B[38;5;130;43;01m\\'\u001B[39;49;00m\u001B[38;5;124;43m, required=True)\u001B[39;49m\u001B[38;5;130;43;01m\\n\u001B[39;49;00m\u001B[38;5;124;43mparser.add_argument(\u001B[39;49m\u001B[38;5;130;43;01m\\'\u001B[39;49;00m\u001B[38;5;124;43m--output_dir\u001B[39;49m\u001B[38;5;130;43;01m\\'\u001B[39;49;00m\u001B[38;5;124;43m, required=True)\u001B[39;49m\u001B[38;5;130;43;01m\\n\u001B[39;49;00m\u001B[38;5;124;43mparser.add_argument(\u001B[39;49m\u001B[38;5;130;43;01m\\'\u001B[39;49;00m\u001B[38;5;124;43m--name\u001B[39;49m\u001B[38;5;130;43;01m\\'\u001B[39;49;00m\u001B[38;5;124;43m, required=True)\u001B[39;49m\u001B[38;5;130;43;01m\\n\u001B[39;49;00m\u001B[38;5;124;43mparser.add_argument(\u001B[39;49m\u001B[38;5;130;43;01m\\'\u001B[39;49;00m\u001B[38;5;124;43m--min_df\u001B[39;49m\u001B[38;5;130;43;01m\\'\u001B[39;49;00m\u001B[38;5;124;43m, type=int, default=20)\u001B[39;49m\u001B[38;5;130;43;01m\\n\u001B[39;49;00m\u001B[38;5;124;43mparser.add_argument(\u001B[39;49m\u001B[38;5;130;43;01m\\'\u001B[39;49;00m\u001B[38;5;124;43m--chunksize\u001B[39;49m\u001B[38;5;130;43;01m\\'\u001B[39;49;00m\u001B[38;5;124;43m, type=int, default=50)\u001B[39;49m\u001B[38;5;130;43;01m\\n\u001B[39;49;00m\u001B[38;5;124;43margs = parser.parse_args()\u001B[39;49m\u001B[38;5;130;43;01m\\n\u001B[39;49;00m\u001B[38;5;130;43;01m\\n\u001B[39;49;00m\u001B[38;5;124;43mcdef list texts = []\u001B[39;49m\u001B[38;5;130;43;01m\\n\u001B[39;49;00m\u001B[38;5;124;43mcdef list stopwords_list = stopwords.words(\u001B[39;49m\u001B[38;5;130;43;01m\\'\u001B[39;49;00m\u001B[38;5;124;43menglish\u001B[39;49m\u001B[38;5;130;43;01m\\'\u001B[39;49;00m\u001B[38;5;124;43m)\u001B[39;49m\u001B[38;5;130;43;01m\\n\u001B[39;49;00m\u001B[38;5;130;43;01m\\n\u001B[39;49;00m\u001B[38;5;124;43mcdef void process(text):\u001B[39;49m\u001B[38;5;130;43;01m\\n\u001B[39;49;00m\u001B[38;5;124;43m    # remove websites\u001B[39;49m\u001B[38;5;130;43;01m\\n\u001B[39;49;00m\u001B[38;5;124;43m    input_str = re.sub(r\u001B[39;49m\u001B[38;5;130;43;01m\\'\u001B[39;49;00m\u001B[38;5;124;43mhttp\u001B[39;49m\u001B[38;5;130;43;01m\\\\\u001B[39;49;00m\u001B[38;5;124;43mS+\u001B[39;49m\u001B[38;5;130;43;01m\\'\u001B[39;49;00m\u001B[38;5;124;43m, \u001B[39;49m\u001B[38;5;130;43;01m\\'\u001B[39;49;00m\u001B[38;5;130;43;01m\\'\u001B[39;49;00m\u001B[38;5;124;43m, text)\u001B[39;49m\u001B[38;5;130;43;01m\\n\u001B[39;49;00m\u001B[38;5;130;43;01m\\n\u001B[39;49;00m\u001B[38;5;130;43;01m\\n\u001B[39;49;00m\u001B[38;5;124;43m    # lower caps\u001B[39;49m\u001B[38;5;130;43;01m\\n\u001B[39;49;00m\u001B[38;5;124;43m    input_str = input_str.lower()\u001B[39;49m\u001B[38;5;130;43;01m\\n\u001B[39;49;00m\u001B[38;5;130;43;01m\\n\u001B[39;49;00m\u001B[38;5;124;43m    # remove punctuation\u001B[39;49m\u001B[38;5;130;43;01m\\n\u001B[39;49;00m\u001B[38;5;124;43m    input_str = input_str.translate(\u001B[39;49m\u001B[38;5;130;43;01m\\n\u001B[39;49;00m\u001B[38;5;124;43m        str.maketrans(\u001B[39;49m\u001B[38;5;124;43m\"\u001B[39;49m\u001B[38;5;124;43m\"\u001B[39;49m\u001B[38;5;124;43m, \u001B[39;49m\u001B[38;5;124;43m\"\u001B[39;49m\u001B[38;5;124;43m\"\u001B[39;49m\u001B[38;5;124;43m, string.punctuation)\u001B[39;49m\u001B[38;5;130;43;01m\\n\u001B[39;49;00m\u001B[38;5;124;43m    )\u001B[39;49m\u001B[38;5;130;43;01m\\n\u001B[39;49;00m\u001B[38;5;130;43;01m\\n\u001B[39;49;00m\u001B[38;5;124;43m    # remove trailing spaces\u001B[39;49m\u001B[38;5;130;43;01m\\n\u001B[39;49;00m\u001B[38;5;124;43m    input_str = input_str.strip()\u001B[39;49m\u001B[38;5;130;43;01m\\n\u001B[39;49;00m\u001B[38;5;130;43;01m\\n\u001B[39;49;00m\u001B[38;5;124;43m    # tokenize\u001B[39;49m\u001B[38;5;130;43;01m\\n\u001B[39;49;00m\u001B[38;5;124;43m    input_str = wordpunct_tokenize(input_str)\u001B[39;49m\u001B[38;5;130;43;01m\\n\u001B[39;49;00m\u001B[38;5;130;43;01m\\n\u001B[39;49;00m\u001B[38;5;124;43m    # remove stop words\u001B[39;49m\u001B[38;5;130;43;01m\\n\u001B[39;49;00m\u001B[38;5;124;43m    input_str_w_sw = [word for word in input_str if not word in stopwords_list]\u001B[39;49m\u001B[38;5;130;43;01m\\n\u001B[39;49;00m\u001B[38;5;130;43;01m\\n\u001B[39;49;00m\u001B[38;5;124;43m    # filter out short texts\u001B[39;49m\u001B[38;5;130;43;01m\\n\u001B[39;49;00m\u001B[38;5;124;43m    if len(input_str_w_sw) < args.min_df:\u001B[39;49m\u001B[38;5;130;43;01m\\n\u001B[39;49;00m\u001B[38;5;124;43m        pass\u001B[39;49m\u001B[38;5;130;43;01m\\n\u001B[39;49;00m\u001B[38;5;124;43m    else:\u001B[39;49m\u001B[38;5;130;43;01m\\n\u001B[39;49;00m\u001B[38;5;124;43m        input_str = \u001B[39;49m\u001B[38;5;124;43m\"\u001B[39;49m\u001B[38;5;124;43m \u001B[39;49m\u001B[38;5;124;43m\"\u001B[39;49m\u001B[38;5;124;43m.join(input_str_w_sw)\u001B[39;49m\u001B[38;5;130;43;01m\\n\u001B[39;49;00m\u001B[38;5;124;43m        texts.append(input_str)\u001B[39;49m\u001B[38;5;130;43;01m\\n\u001B[39;49;00m\u001B[38;5;130;43;01m\\n\u001B[39;49;00m\u001B[38;5;124;43mcdef void run():\u001B[39;49m\u001B[38;5;130;43;01m\\n\u001B[39;49;00m\u001B[38;5;124;43m    with pd.read_csv(args.data_path, chunksize=args.chunksize) as reader:\u001B[39;49m\u001B[38;5;130;43;01m\\n\u001B[39;49;00m\u001B[38;5;124;43m        for chunk in tqdm(reader):\u001B[39;49m\u001B[38;5;130;43;01m\\n\u001B[39;49;00m\u001B[38;5;124;43m            chunk.apply(lambda x: process(x[\u001B[39;49m\u001B[38;5;130;43;01m\\'\u001B[39;49;00m\u001B[38;5;124;43mtext_post\u001B[39;49m\u001B[38;5;130;43;01m\\'\u001B[39;49;00m\u001B[38;5;124;43m]), axis=1, raw=False)\u001B[39;49m\u001B[38;5;130;43;01m\\n\u001B[39;49;00m\u001B[38;5;130;43;01m\\n\u001B[39;49;00m\u001B[38;5;124;43m    print(\u001B[39;49m\u001B[38;5;130;43;01m\\'\u001B[39;49;00m\u001B[38;5;124;43mvectorizing\u001B[39;49m\u001B[38;5;130;43;01m\\'\u001B[39;49;00m\u001B[38;5;124;43m)\u001B[39;49m\u001B[38;5;130;43;01m\\n\u001B[39;49;00m\u001B[38;5;130;43;01m\\n\u001B[39;49;00m\u001B[38;5;124;43m    vectorizer = CountVectorizer(min_df=args.min_df)\u001B[39;49m\u001B[38;5;130;43;01m\\n\u001B[39;49;00m\u001B[38;5;124;43m    bow_matrix = vectorizer.fit_transform(texts).toarray()\u001B[39;49m\u001B[38;5;130;43;01m\\n\u001B[39;49;00m\u001B[38;5;130;43;01m\\n\u001B[39;49;00m\u001B[38;5;124;43m    idx = np.where(bow_matrix.sum(axis=-1) > 0)\u001B[39;49m\u001B[38;5;130;43;01m\\n\u001B[39;49;00m\u001B[38;5;124;43m    bow_matrix = bow_matrix[idx]\u001B[39;49m\u001B[38;5;130;43;01m\\n\u001B[39;49;00m\u001B[38;5;130;43;01m\\n\u001B[39;49;00m\u001B[38;5;124;43m    vocab = vectorizer.get_feature_names_out()\u001B[39;49m\u001B[38;5;130;43;01m\\n\u001B[39;49;00m\u001B[38;5;130;43;01m\\n\u001B[39;49;00m\u001B[38;5;124;43m    print(vocab)\u001B[39;49m\u001B[38;5;130;43;01m\\n\u001B[39;49;00m\u001B[38;5;130;43;01m\\n\u001B[39;49;00m\u001B[38;5;124;43m    print(\u001B[39;49m\u001B[38;5;124;43m\"\u001B[39;49m\u001B[38;5;124;43m===>saving files\u001B[39;49m\u001B[38;5;124;43m\"\u001B[39;49m\u001B[38;5;124;43m)\u001B[39;49m\u001B[38;5;130;43;01m\\n\u001B[39;49;00m\u001B[38;5;130;43;01m\\n\u001B[39;49;00m\u001B[38;5;124;43m    os.makedirs(os.path.join(args.output_dir, f\u001B[39;49m\u001B[38;5;130;43;01m\\'\u001B[39;49;00m\u001B[38;5;132;43;01m{args.name}\u001B[39;49;00m\u001B[38;5;130;43;01m\\'\u001B[39;49;00m\u001B[38;5;124;43m), exist_ok=True)\u001B[39;49m\u001B[38;5;130;43;01m\\n\u001B[39;49;00m\u001B[38;5;130;43;01m\\n\u001B[39;49;00m\u001B[38;5;124;43m    scipy.sparse.save_npz(os.path.join(args.output_dir, f\u001B[39;49m\u001B[38;5;130;43;01m\\'\u001B[39;49;00m\u001B[38;5;132;43;01m{args.name}\u001B[39;49;00m\u001B[38;5;130;43;01m\\'\u001B[39;49;00m\u001B[38;5;124;43m, f\u001B[39;49m\u001B[38;5;130;43;01m\\'\u001B[39;49;00m\u001B[38;5;124;43mbow_matrix.npz\u001B[39;49m\u001B[38;5;130;43;01m\\'\u001B[39;49;00m\u001B[38;5;124;43m),\u001B[39;49m\u001B[38;5;130;43;01m\\n\u001B[39;49;00m\u001B[38;5;124;43m                          scipy.sparse.csr_matrix(bow_matrix))\u001B[39;49m\u001B[38;5;130;43;01m\\n\u001B[39;49;00m\u001B[38;5;124;43m    with open(os.path.join(args.output_dir, f\u001B[39;49m\u001B[38;5;130;43;01m\\'\u001B[39;49;00m\u001B[38;5;132;43;01m{args.name}\u001B[39;49;00m\u001B[38;5;130;43;01m\\'\u001B[39;49;00m\u001B[38;5;124;43m, f\u001B[39;49m\u001B[38;5;130;43;01m\\'\u001B[39;49;00m\u001B[38;5;124;43mvocab.txt\u001B[39;49m\u001B[38;5;130;43;01m\\'\u001B[39;49;00m\u001B[38;5;124;43m), \u001B[39;49m\u001B[38;5;130;43;01m\\'\u001B[39;49;00m\u001B[38;5;124;43mw\u001B[39;49m\u001B[38;5;130;43;01m\\'\u001B[39;49;00m\u001B[38;5;124;43m) as file:\u001B[39;49m\u001B[38;5;130;43;01m\\n\u001B[39;49;00m\u001B[38;5;124;43m        for line in vocab:\u001B[39;49m\u001B[38;5;130;43;01m\\n\u001B[39;49;00m\u001B[38;5;124;43m            file.write(line + \u001B[39;49m\u001B[38;5;130;43;01m\\'\u001B[39;49;00m\u001B[38;5;130;43;01m\\\\\u001B[39;49;00m\u001B[38;5;124;43mn\u001B[39;49m\u001B[38;5;130;43;01m\\'\u001B[39;49;00m\u001B[38;5;124;43m)\u001B[39;49m\u001B[38;5;130;43;01m\\n\u001B[39;49;00m\u001B[38;5;130;43;01m\\n\u001B[39;49;00m\u001B[38;5;124;43m    print(\u001B[39;49m\u001B[38;5;130;43;01m\\'\u001B[39;49;00m\u001B[38;5;124;43m===>done.\u001B[39;49m\u001B[38;5;130;43;01m\\'\u001B[39;49;00m\u001B[38;5;124;43m)\u001B[39;49m\u001B[38;5;130;43;01m\\n\u001B[39;49;00m\u001B[38;5;124;43m'\u001B[39;49m\u001B[43m)\u001B[49m\n",
      "File \u001B[1;32m~\\anaconda3\\envs\\py310\\lib\\site-packages\\IPython\\core\\interactiveshell.py:2430\u001B[0m, in \u001B[0;36mInteractiveShell.run_cell_magic\u001B[1;34m(self, magic_name, line, cell)\u001B[0m\n\u001B[0;32m   2428\u001B[0m \u001B[38;5;28;01mwith\u001B[39;00m \u001B[38;5;28mself\u001B[39m\u001B[38;5;241m.\u001B[39mbuiltin_trap:\n\u001B[0;32m   2429\u001B[0m     args \u001B[38;5;241m=\u001B[39m (magic_arg_s, cell)\n\u001B[1;32m-> 2430\u001B[0m     result \u001B[38;5;241m=\u001B[39m fn(\u001B[38;5;241m*\u001B[39margs, \u001B[38;5;241m*\u001B[39m\u001B[38;5;241m*\u001B[39mkwargs)\n\u001B[0;32m   2432\u001B[0m \u001B[38;5;66;03m# The code below prevents the output from being displayed\u001B[39;00m\n\u001B[0;32m   2433\u001B[0m \u001B[38;5;66;03m# when using magics with decodator @output_can_be_silenced\u001B[39;00m\n\u001B[0;32m   2434\u001B[0m \u001B[38;5;66;03m# when the last Python token in the expression is a ';'.\u001B[39;00m\n\u001B[0;32m   2435\u001B[0m \u001B[38;5;28;01mif\u001B[39;00m \u001B[38;5;28mgetattr\u001B[39m(fn, magic\u001B[38;5;241m.\u001B[39mMAGIC_OUTPUT_CAN_BE_SILENCED, \u001B[38;5;28;01mFalse\u001B[39;00m):\n",
      "File \u001B[1;32m~\\anaconda3\\envs\\py310\\lib\\site-packages\\Cython\\Build\\IpythonMagic.py:345\u001B[0m, in \u001B[0;36mCythonMagics.cython\u001B[1;34m(self, line, cell)\u001B[0m\n\u001B[0;32m    342\u001B[0m         \u001B[38;5;28mself\u001B[39m\u001B[38;5;241m.\u001B[39m_profile_pgo_wrapper(extension, lib_dir)\n\u001B[0;32m    344\u001B[0m \u001B[38;5;28;01mtry\u001B[39;00m:\n\u001B[1;32m--> 345\u001B[0m     \u001B[38;5;28;43mself\u001B[39;49m\u001B[38;5;241;43m.\u001B[39;49m\u001B[43m_build_extension\u001B[49m\u001B[43m(\u001B[49m\u001B[43mextension\u001B[49m\u001B[43m,\u001B[49m\u001B[43m \u001B[49m\u001B[43mlib_dir\u001B[49m\u001B[43m,\u001B[49m\u001B[43m \u001B[49m\u001B[43mpgo_step_name\u001B[49m\u001B[38;5;241;43m=\u001B[39;49m\u001B[38;5;124;43m'\u001B[39;49m\u001B[38;5;124;43muse\u001B[39;49m\u001B[38;5;124;43m'\u001B[39;49m\u001B[43m \u001B[49m\u001B[38;5;28;43;01mif\u001B[39;49;00m\u001B[43m \u001B[49m\u001B[43margs\u001B[49m\u001B[38;5;241;43m.\u001B[39;49m\u001B[43mpgo\u001B[49m\u001B[43m \u001B[49m\u001B[38;5;28;43;01melse\u001B[39;49;00m\u001B[43m \u001B[49m\u001B[38;5;28;43;01mNone\u001B[39;49;00m\u001B[43m,\u001B[49m\n\u001B[0;32m    346\u001B[0m \u001B[43m                          \u001B[49m\u001B[43mquiet\u001B[49m\u001B[38;5;241;43m=\u001B[39;49m\u001B[43margs\u001B[49m\u001B[38;5;241;43m.\u001B[39;49m\u001B[43mquiet\u001B[49m\u001B[43m)\u001B[49m\n\u001B[0;32m    347\u001B[0m \u001B[38;5;28;01mexcept\u001B[39;00m distutils\u001B[38;5;241m.\u001B[39merrors\u001B[38;5;241m.\u001B[39mCompileError:\n\u001B[0;32m    348\u001B[0m     \u001B[38;5;66;03m# Build failed and printed error message\u001B[39;00m\n\u001B[0;32m    349\u001B[0m     \u001B[38;5;28;01mreturn\u001B[39;00m \u001B[38;5;28;01mNone\u001B[39;00m\n",
      "File \u001B[1;32m~\\anaconda3\\envs\\py310\\lib\\site-packages\\Cython\\Build\\IpythonMagic.py:459\u001B[0m, in \u001B[0;36mCythonMagics._build_extension\u001B[1;34m(self, extension, lib_dir, temp_dir, pgo_step_name, quiet)\u001B[0m\n\u001B[0;32m    457\u001B[0m     \u001B[38;5;28;01mif\u001B[39;00m \u001B[38;5;129;01mnot\u001B[39;00m quiet:\n\u001B[0;32m    458\u001B[0m         old_threshold \u001B[38;5;241m=\u001B[39m distutils\u001B[38;5;241m.\u001B[39mlog\u001B[38;5;241m.\u001B[39mset_threshold(distutils\u001B[38;5;241m.\u001B[39mlog\u001B[38;5;241m.\u001B[39mDEBUG)\n\u001B[1;32m--> 459\u001B[0m     \u001B[43mbuild_extension\u001B[49m\u001B[38;5;241;43m.\u001B[39;49m\u001B[43mrun\u001B[49m\u001B[43m(\u001B[49m\u001B[43m)\u001B[49m\n\u001B[0;32m    460\u001B[0m \u001B[38;5;28;01mfinally\u001B[39;00m:\n\u001B[0;32m    461\u001B[0m     \u001B[38;5;28;01mif\u001B[39;00m \u001B[38;5;129;01mnot\u001B[39;00m quiet \u001B[38;5;129;01mand\u001B[39;00m old_threshold \u001B[38;5;129;01mis\u001B[39;00m \u001B[38;5;129;01mnot\u001B[39;00m \u001B[38;5;28;01mNone\u001B[39;00m:\n",
      "File \u001B[1;32m~\\anaconda3\\envs\\py310\\lib\\site-packages\\setuptools\\_distutils\\command\\build_ext.py:346\u001B[0m, in \u001B[0;36mbuild_ext.run\u001B[1;34m(self)\u001B[0m\n\u001B[0;32m    343\u001B[0m     \u001B[38;5;28mself\u001B[39m\u001B[38;5;241m.\u001B[39mcompiler\u001B[38;5;241m.\u001B[39mset_link_objects(\u001B[38;5;28mself\u001B[39m\u001B[38;5;241m.\u001B[39mlink_objects)\n\u001B[0;32m    345\u001B[0m \u001B[38;5;66;03m# Now actually compile and link everything.\u001B[39;00m\n\u001B[1;32m--> 346\u001B[0m \u001B[38;5;28;43mself\u001B[39;49m\u001B[38;5;241;43m.\u001B[39;49m\u001B[43mbuild_extensions\u001B[49m\u001B[43m(\u001B[49m\u001B[43m)\u001B[49m\n",
      "File \u001B[1;32m~\\anaconda3\\envs\\py310\\lib\\site-packages\\setuptools\\_distutils\\command\\build_ext.py:468\u001B[0m, in \u001B[0;36mbuild_ext.build_extensions\u001B[1;34m(self)\u001B[0m\n\u001B[0;32m    466\u001B[0m     \u001B[38;5;28mself\u001B[39m\u001B[38;5;241m.\u001B[39m_build_extensions_parallel()\n\u001B[0;32m    467\u001B[0m \u001B[38;5;28;01melse\u001B[39;00m:\n\u001B[1;32m--> 468\u001B[0m     \u001B[38;5;28;43mself\u001B[39;49m\u001B[38;5;241;43m.\u001B[39;49m\u001B[43m_build_extensions_serial\u001B[49m\u001B[43m(\u001B[49m\u001B[43m)\u001B[49m\n",
      "File \u001B[1;32m~\\anaconda3\\envs\\py310\\lib\\site-packages\\setuptools\\_distutils\\command\\build_ext.py:494\u001B[0m, in \u001B[0;36mbuild_ext._build_extensions_serial\u001B[1;34m(self)\u001B[0m\n\u001B[0;32m    492\u001B[0m \u001B[38;5;28;01mfor\u001B[39;00m ext \u001B[38;5;129;01min\u001B[39;00m \u001B[38;5;28mself\u001B[39m\u001B[38;5;241m.\u001B[39mextensions:\n\u001B[0;32m    493\u001B[0m     \u001B[38;5;28;01mwith\u001B[39;00m \u001B[38;5;28mself\u001B[39m\u001B[38;5;241m.\u001B[39m_filter_build_errors(ext):\n\u001B[1;32m--> 494\u001B[0m         \u001B[38;5;28;43mself\u001B[39;49m\u001B[38;5;241;43m.\u001B[39;49m\u001B[43mbuild_extension\u001B[49m\u001B[43m(\u001B[49m\u001B[43mext\u001B[49m\u001B[43m)\u001B[49m\n",
      "File \u001B[1;32m~\\anaconda3\\envs\\py310\\lib\\site-packages\\setuptools\\_distutils\\command\\build_ext.py:549\u001B[0m, in \u001B[0;36mbuild_ext.build_extension\u001B[1;34m(self, ext)\u001B[0m\n\u001B[0;32m    546\u001B[0m \u001B[38;5;28;01mfor\u001B[39;00m undef \u001B[38;5;129;01min\u001B[39;00m ext\u001B[38;5;241m.\u001B[39mundef_macros:\n\u001B[0;32m    547\u001B[0m     macros\u001B[38;5;241m.\u001B[39mappend((undef,))\n\u001B[1;32m--> 549\u001B[0m objects \u001B[38;5;241m=\u001B[39m \u001B[38;5;28;43mself\u001B[39;49m\u001B[38;5;241;43m.\u001B[39;49m\u001B[43mcompiler\u001B[49m\u001B[38;5;241;43m.\u001B[39;49m\u001B[43mcompile\u001B[49m\u001B[43m(\u001B[49m\n\u001B[0;32m    550\u001B[0m \u001B[43m    \u001B[49m\u001B[43msources\u001B[49m\u001B[43m,\u001B[49m\n\u001B[0;32m    551\u001B[0m \u001B[43m    \u001B[49m\u001B[43moutput_dir\u001B[49m\u001B[38;5;241;43m=\u001B[39;49m\u001B[38;5;28;43mself\u001B[39;49m\u001B[38;5;241;43m.\u001B[39;49m\u001B[43mbuild_temp\u001B[49m\u001B[43m,\u001B[49m\n\u001B[0;32m    552\u001B[0m \u001B[43m    \u001B[49m\u001B[43mmacros\u001B[49m\u001B[38;5;241;43m=\u001B[39;49m\u001B[43mmacros\u001B[49m\u001B[43m,\u001B[49m\n\u001B[0;32m    553\u001B[0m \u001B[43m    \u001B[49m\u001B[43minclude_dirs\u001B[49m\u001B[38;5;241;43m=\u001B[39;49m\u001B[43mext\u001B[49m\u001B[38;5;241;43m.\u001B[39;49m\u001B[43minclude_dirs\u001B[49m\u001B[43m,\u001B[49m\n\u001B[0;32m    554\u001B[0m \u001B[43m    \u001B[49m\u001B[43mdebug\u001B[49m\u001B[38;5;241;43m=\u001B[39;49m\u001B[38;5;28;43mself\u001B[39;49m\u001B[38;5;241;43m.\u001B[39;49m\u001B[43mdebug\u001B[49m\u001B[43m,\u001B[49m\n\u001B[0;32m    555\u001B[0m \u001B[43m    \u001B[49m\u001B[43mextra_postargs\u001B[49m\u001B[38;5;241;43m=\u001B[39;49m\u001B[43mextra_args\u001B[49m\u001B[43m,\u001B[49m\n\u001B[0;32m    556\u001B[0m \u001B[43m    \u001B[49m\u001B[43mdepends\u001B[49m\u001B[38;5;241;43m=\u001B[39;49m\u001B[43mext\u001B[49m\u001B[38;5;241;43m.\u001B[39;49m\u001B[43mdepends\u001B[49m\u001B[43m,\u001B[49m\n\u001B[0;32m    557\u001B[0m \u001B[43m\u001B[49m\u001B[43m)\u001B[49m\n\u001B[0;32m    559\u001B[0m \u001B[38;5;66;03m# XXX outdated variable, kept here in case third-part code\u001B[39;00m\n\u001B[0;32m    560\u001B[0m \u001B[38;5;66;03m# needs it.\u001B[39;00m\n\u001B[0;32m    561\u001B[0m \u001B[38;5;28mself\u001B[39m\u001B[38;5;241m.\u001B[39m_built_objects \u001B[38;5;241m=\u001B[39m objects[:]\n",
      "File \u001B[1;32m~\\anaconda3\\envs\\py310\\lib\\site-packages\\setuptools\\_distutils\\_msvccompiler.py:344\u001B[0m, in \u001B[0;36mMSVCCompiler.compile\u001B[1;34m(self, sources, output_dir, macros, include_dirs, debug, extra_preargs, extra_postargs, depends)\u001B[0m\n\u001B[0;32m    331\u001B[0m \u001B[38;5;28;01mdef\u001B[39;00m \u001B[38;5;21mcompile\u001B[39m(  \u001B[38;5;66;03m# noqa: C901\u001B[39;00m\n\u001B[0;32m    332\u001B[0m     \u001B[38;5;28mself\u001B[39m,\n\u001B[0;32m    333\u001B[0m     sources,\n\u001B[1;32m   (...)\u001B[0m\n\u001B[0;32m    340\u001B[0m     depends\u001B[38;5;241m=\u001B[39m\u001B[38;5;28;01mNone\u001B[39;00m,\n\u001B[0;32m    341\u001B[0m ):\n\u001B[0;32m    343\u001B[0m     \u001B[38;5;28;01mif\u001B[39;00m \u001B[38;5;129;01mnot\u001B[39;00m \u001B[38;5;28mself\u001B[39m\u001B[38;5;241m.\u001B[39minitialized:\n\u001B[1;32m--> 344\u001B[0m         \u001B[38;5;28;43mself\u001B[39;49m\u001B[38;5;241;43m.\u001B[39;49m\u001B[43minitialize\u001B[49m\u001B[43m(\u001B[49m\u001B[43m)\u001B[49m\n\u001B[0;32m    345\u001B[0m     compile_info \u001B[38;5;241m=\u001B[39m \u001B[38;5;28mself\u001B[39m\u001B[38;5;241m.\u001B[39m_setup_compile(\n\u001B[0;32m    346\u001B[0m         output_dir, macros, include_dirs, sources, depends, extra_postargs\n\u001B[0;32m    347\u001B[0m     )\n\u001B[0;32m    348\u001B[0m     macros, objects, extra_postargs, pp_opts, build \u001B[38;5;241m=\u001B[39m compile_info\n",
      "File \u001B[1;32m~\\anaconda3\\envs\\py310\\lib\\site-packages\\setuptools\\_distutils\\_msvccompiler.py:253\u001B[0m, in \u001B[0;36mMSVCCompiler.initialize\u001B[1;34m(self, plat_name)\u001B[0m\n\u001B[0;32m    250\u001B[0m \u001B[38;5;66;03m# Get the vcvarsall.bat spec for the requested platform.\u001B[39;00m\n\u001B[0;32m    251\u001B[0m plat_spec \u001B[38;5;241m=\u001B[39m PLAT_TO_VCVARS[plat_name]\n\u001B[1;32m--> 253\u001B[0m vc_env \u001B[38;5;241m=\u001B[39m \u001B[43m_get_vc_env\u001B[49m\u001B[43m(\u001B[49m\u001B[43mplat_spec\u001B[49m\u001B[43m)\u001B[49m\n\u001B[0;32m    254\u001B[0m \u001B[38;5;28;01mif\u001B[39;00m \u001B[38;5;129;01mnot\u001B[39;00m vc_env:\n\u001B[0;32m    255\u001B[0m     \u001B[38;5;28;01mraise\u001B[39;00m DistutilsPlatformError(\n\u001B[0;32m    256\u001B[0m         \u001B[38;5;124m\"\u001B[39m\u001B[38;5;124mUnable to find a compatible \u001B[39m\u001B[38;5;124m\"\u001B[39m \u001B[38;5;124m\"\u001B[39m\u001B[38;5;124mVisual Studio installation.\u001B[39m\u001B[38;5;124m\"\u001B[39m\n\u001B[0;32m    257\u001B[0m     )\n",
      "File \u001B[1;32m~\\anaconda3\\envs\\py310\\lib\\site-packages\\setuptools\\msvc.py:214\u001B[0m, in \u001B[0;36mmsvc14_get_vc_env\u001B[1;34m(plat_spec)\u001B[0m\n\u001B[0;32m    212\u001B[0m \u001B[38;5;66;03m# Always use backport from CPython 3.8\u001B[39;00m\n\u001B[0;32m    213\u001B[0m \u001B[38;5;28;01mtry\u001B[39;00m:\n\u001B[1;32m--> 214\u001B[0m     \u001B[38;5;28;01mreturn\u001B[39;00m \u001B[43m_msvc14_get_vc_env\u001B[49m\u001B[43m(\u001B[49m\u001B[43mplat_spec\u001B[49m\u001B[43m)\u001B[49m\n\u001B[0;32m    215\u001B[0m \u001B[38;5;28;01mexcept\u001B[39;00m distutils\u001B[38;5;241m.\u001B[39merrors\u001B[38;5;241m.\u001B[39mDistutilsPlatformError \u001B[38;5;28;01mas\u001B[39;00m exc:\n\u001B[0;32m    216\u001B[0m     _augment_exception(exc, \u001B[38;5;241m14.0\u001B[39m)\n",
      "File \u001B[1;32m~\\anaconda3\\envs\\py310\\lib\\site-packages\\setuptools\\msvc.py:168\u001B[0m, in \u001B[0;36m_msvc14_get_vc_env\u001B[1;34m(plat_spec)\u001B[0m\n\u001B[0;32m    166\u001B[0m vcvarsall, vcruntime \u001B[38;5;241m=\u001B[39m _msvc14_find_vcvarsall(plat_spec)\n\u001B[0;32m    167\u001B[0m \u001B[38;5;28;01mif\u001B[39;00m \u001B[38;5;129;01mnot\u001B[39;00m vcvarsall:\n\u001B[1;32m--> 168\u001B[0m     \u001B[38;5;28;01mraise\u001B[39;00m distutils\u001B[38;5;241m.\u001B[39merrors\u001B[38;5;241m.\u001B[39mDistutilsPlatformError(\n\u001B[0;32m    169\u001B[0m         \u001B[38;5;124m\"\u001B[39m\u001B[38;5;124mUnable to find vcvarsall.bat\u001B[39m\u001B[38;5;124m\"\u001B[39m\n\u001B[0;32m    170\u001B[0m     )\n\u001B[0;32m    172\u001B[0m \u001B[38;5;28;01mtry\u001B[39;00m:\n\u001B[0;32m    173\u001B[0m     out \u001B[38;5;241m=\u001B[39m subprocess\u001B[38;5;241m.\u001B[39mcheck_output(\n\u001B[0;32m    174\u001B[0m         \u001B[38;5;124m'\u001B[39m\u001B[38;5;124mcmd /u /c \u001B[39m\u001B[38;5;124m\"\u001B[39m\u001B[38;5;132;01m{}\u001B[39;00m\u001B[38;5;124m\"\u001B[39m\u001B[38;5;124m \u001B[39m\u001B[38;5;132;01m{}\u001B[39;00m\u001B[38;5;124m && set\u001B[39m\u001B[38;5;124m'\u001B[39m\u001B[38;5;241m.\u001B[39mformat(vcvarsall, plat_spec),\n\u001B[0;32m    175\u001B[0m         stderr\u001B[38;5;241m=\u001B[39msubprocess\u001B[38;5;241m.\u001B[39mSTDOUT,\n\u001B[0;32m    176\u001B[0m     )\u001B[38;5;241m.\u001B[39mdecode(\u001B[38;5;124m'\u001B[39m\u001B[38;5;124mutf-16le\u001B[39m\u001B[38;5;124m'\u001B[39m, errors\u001B[38;5;241m=\u001B[39m\u001B[38;5;124m'\u001B[39m\u001B[38;5;124mreplace\u001B[39m\u001B[38;5;124m'\u001B[39m)\n",
      "\u001B[1;31mDistutilsPlatformError\u001B[0m: Microsoft Visual C++ 14.0 or greater is required. Get it with \"Microsoft C++ Build Tools\": https://visualstudio.microsoft.com/visual-cpp-build-tools/"
     ]
    }
   ],
   "source": [
    "%%cython\n",
    "\n",
    "import os\n",
    "import cython\n",
    "import numpy as np\n",
    "import scipy.sparse\n",
    "from sklearn.feature_extraction.text import CountVectorizer\n",
    "import argparse\n",
    "import string\n",
    "from tqdm import tqdm\n",
    "import nltk\n",
    "from nltk.tokenize import word_tokenize, wordpunct_tokenize\n",
    "from nltk.corpus import stopwords\n",
    "import json\n",
    "import re\n",
    "import pandas as pd\n",
    "import time\n",
    "\n",
    "nltk.download('stopwords')\n",
    "nltk.download('punkt')\n",
    "string.punctuation\n",
    "\n",
    "parser = argparse.ArgumentParser()\n",
    "parser.add_argument('--data_path', required=True)\n",
    "parser.add_argument('--output_dir', required=True)\n",
    "parser.add_argument('--name', required=True)\n",
    "parser.add_argument('--min_df', type=int, default=20)\n",
    "parser.add_argument('--chunksize', type=int, default=50)\n",
    "args = parser.parse_args()\n",
    "\n",
    "cdef list texts = []\n",
    "cdef list stopwords_list = stopwords.words('english')\n",
    "\n",
    "cdef void process(text):\n",
    "    # remove websites\n",
    "    input_str = re.sub(r'http\\S+', '', text)\n",
    "\n",
    "\n",
    "    # lower caps\n",
    "    input_str = input_str.lower()\n",
    "\n",
    "    # remove punctuation\n",
    "    input_str = input_str.translate(\n",
    "        str.maketrans(\"\", \"\", string.punctuation)\n",
    "    )\n",
    "\n",
    "    # remove trailing spaces\n",
    "    input_str = input_str.strip()\n",
    "\n",
    "    # tokenize\n",
    "    input_str = wordpunct_tokenize(input_str)\n",
    "\n",
    "    # remove stop words\n",
    "    input_str_w_sw = [word for word in input_str if not word in stopwords_list]\n",
    "\n",
    "    # filter out short texts\n",
    "    if len(input_str_w_sw) < args.min_df:\n",
    "        pass\n",
    "    else:\n",
    "        input_str = \" \".join(input_str_w_sw)\n",
    "        texts.append(input_str)\n",
    "\n",
    "cdef void run():\n",
    "    with pd.read_csv(args.data_path, chunksize=args.chunksize) as reader:\n",
    "        for chunk in tqdm(reader):\n",
    "            chunk.apply(lambda x: process(x['text_post']), axis=1, raw=False)\n",
    "\n",
    "    print('vectorizing')\n",
    "\n",
    "    vectorizer = CountVectorizer(min_df=args.min_df)\n",
    "    bow_matrix = vectorizer.fit_transform(texts).toarray()\n",
    "\n",
    "    idx = np.where(bow_matrix.sum(axis=-1) > 0)\n",
    "    bow_matrix = bow_matrix[idx]\n",
    "\n",
    "    vocab = vectorizer.get_feature_names_out()\n",
    "\n",
    "    print(vocab)\n",
    "\n",
    "    print(\"===>saving files\")\n",
    "\n",
    "    os.makedirs(os.path.join(args.output_dir, f'{args.name}'), exist_ok=True)\n",
    "\n",
    "    scipy.sparse.save_npz(os.path.join(args.output_dir, f'{args.name}', f'bow_matrix.npz'),\n",
    "                          scipy.sparse.csr_matrix(bow_matrix))\n",
    "    with open(os.path.join(args.output_dir, f'{args.name}', f'vocab.txt'), 'w') as file:\n",
    "        for line in vocab:\n",
    "            file.write(line + '\\n')\n",
    "\n",
    "    print('===>done.')"
   ],
   "metadata": {
    "collapsed": false
   }
  },
  {
   "cell_type": "code",
   "execution_count": null,
   "outputs": [],
   "source": [],
   "metadata": {
    "collapsed": false
   }
  }
 ],
 "metadata": {
  "kernelspec": {
   "display_name": "Python 3",
   "language": "python",
   "name": "python3"
  },
  "language_info": {
   "codemirror_mode": {
    "name": "ipython",
    "version": 2
   },
   "file_extension": ".py",
   "mimetype": "text/x-python",
   "name": "python",
   "nbconvert_exporter": "python",
   "pygments_lexer": "ipython2",
   "version": "2.7.6"
  }
 },
 "nbformat": 4,
 "nbformat_minor": 0
}
